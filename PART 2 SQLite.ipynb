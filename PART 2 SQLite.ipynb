{
 "cells": [
  {
   "cell_type": "markdown",
   "id": "e5919205",
   "metadata": {},
   "source": [
    "Q10: Produce a list of facilities with a total revenue less than 1000.\n",
    "The output of facility name and total revenue, sorted by revenue. Remember\n",
    "that there's a different cost for guests and members!"
   ]
  },
  {
   "cell_type": "code",
   "execution_count": 1,
   "id": "4750947b",
   "metadata": {},
   "outputs": [
    {
     "name": "stdout",
     "output_type": "stream",
     "text": [
      "               0    1\n",
      "0   Table Tennis  180\n",
      "1  Snooker Table  240\n",
      "2     Pool Table  270\n"
     ]
    }
   ],
   "source": [
    "from sqlalchemy import create_engine\n",
    "import pandas as pd\n",
    "\n",
    "engine = create_engine('sqlite:///sqlite_db_pythonsqlite.db')\n",
    "with engine.connect() as con:\n",
    "    rs = con.execute(\"\"\"SELECT name, sub.total_revenue\n",
    "                        FROM\n",
    "                        (\n",
    "                        SELECT\n",
    "                        name,\n",
    "                        SUM(CASE WHEN b.memid=0 THEN slots*guestcost\n",
    "                             ELSE slots*membercost END) AS total_revenue\n",
    "                        FROM \n",
    "                        Bookings AS b\n",
    "                        LEFT JOIN Facilities AS f\n",
    "                        ON b.facid = f.facid\n",
    "                        GROUP BY name\n",
    "                        ) AS sub\n",
    "                        WHERE sub.total_revenue < 1000\n",
    "                        ORDER BY sub.total_revenue\"\"\")\n",
    "    rows = rs.fetchall()\n",
    "    df1 = pd.DataFrame(rows)\n",
    "    print(df1)\n",
    "\n"
   ]
  },
  {
   "cell_type": "markdown",
   "id": "47293422",
   "metadata": {},
   "source": [
    "Q11: Produce a report of members and who recommended them in alphabetic surname,firstname order"
   ]
  },
  {
   "cell_type": "code",
   "execution_count": 2,
   "id": "acee1bba",
   "metadata": {},
   "outputs": [
    {
     "name": "stdout",
     "output_type": "stream",
     "text": [
      "     0                  1          2         3          4\n",
      "0    0              GUEST      GUEST      None       None\n",
      "1    1              Smith     Darren      None       None\n",
      "2    2              Smith      Tracy      None       None\n",
      "3    3             Rownam        Tim      None       None\n",
      "4    6              Tracy     Burton      None       None\n",
      "5   13            Farrell     Jemima      None       None\n",
      "6   28            Farrell      David      None       None\n",
      "7   33         Tupperware   Hyacinth      None       None\n",
      "8   37              Smith     Darren      None       None\n",
      "9   24             Sarwin  Ramnaresh     Bader   Florence\n",
      "10  22             Coplin       Joan     Baker    Timothy\n",
      "11  20            Genting    Matthew   Butters     Gerald\n",
      "12  16              Baker    Timothy   Farrell     Jemima\n",
      "13  17             Pinker      David   Farrell     Jemima\n",
      "14  27             Rumney  Henrietta   Genting    Matthew\n",
      "15  26              Jones    Douglas     Jones      David\n",
      "16   7               Dare      Nancy  Joplette     Janice\n",
      "17  11              Jones      David  Joplette     Janice\n",
      "18  35               Hunt       John   Purview  Millicent\n",
      "19   8             Boothe        Tim    Rownam        Tim\n",
      "20   4           Joplette     Janice     Smith     Darren\n",
      "21   5            Butters     Gerald     Smith     Darren\n",
      "22  10               Owen    Charles     Smith     Darren\n",
      "23  14              Smith       Jack     Smith     Darren\n",
      "24  21          Mackenzie       Anna     Smith     Darren\n",
      "25  29  Worthington-Smyth      Henry     Smith      Tracy\n",
      "26  30            Purview  Millicent     Smith      Tracy\n",
      "27  36            Crumpet      Erica     Smith      Tracy\n",
      "28  12              Baker       Anne  Stibbons     Ponder\n",
      "29  15              Bader   Florence  Stibbons     Ponder\n",
      "30   9           Stibbons     Ponder     Tracy     Burton\n"
     ]
    }
   ],
   "source": [
    "engine = create_engine('sqlite:///sqlite_db_pythonsqlite.db')\n",
    "with engine.connect() as con:\n",
    "    rs = con.execute(\"\"\"SELECT m1.memid, \n",
    "                    m1.surname, \n",
    "                    m1.firstname,\n",
    "                    m2.surname AS surname_recommended,\n",
    "                    m2.firstname AS firstname_recommended\n",
    "                    FROM Members AS m1\n",
    "                    LEFT JOIN Members AS m2\n",
    "                    ON m1.recommendedby = m2.memid\n",
    "                    ORDER BY surname_recommended, firstname_recommended\"\"\")\n",
    "    rows = rs.fetchall()\n",
    "    df1 = pd.DataFrame(rows)\n",
    "    print(df1)\n",
    "\n"
   ]
  },
  {
   "cell_type": "markdown",
   "id": "2e3f012c",
   "metadata": {},
   "source": [
    "Q12: Find the facilities with their usage by member, but not guests"
   ]
  },
  {
   "cell_type": "code",
   "execution_count": 3,
   "id": "8f71b065",
   "metadata": {},
   "outputs": [
    {
     "name": "stdout",
     "output_type": "stream",
     "text": [
      "     0  1                2\n",
      "0  308  0   Tennis Court 1\n",
      "1  276  1   Tennis Court 2\n",
      "2  344  2  Badminton Court\n",
      "3  385  3     Table Tennis\n",
      "4  421  4   Massage Room 1\n",
      "5   27  5   Massage Room 2\n",
      "6  195  6     Squash Court\n",
      "7  421  7    Snooker Table\n",
      "8  783  8       Pool Table\n"
     ]
    }
   ],
   "source": [
    "# IF here the usage means the number of bookings, please use the following code for Q12\n",
    "engine = create_engine('sqlite:///sqlite_db_pythonsqlite.db')\n",
    "with engine.connect() as con:\n",
    "    rs = con.execute(\"\"\"SELECT COUNT(bookid) As usage, f.facid, f.name\n",
    "                    FROM Bookings AS b\n",
    "                    LEFT JOIN Facilities AS f\n",
    "                    ON b.facid=f.facid\n",
    "                    LEFT JOIN Members AS m\n",
    "                    ON b.memid=m.memid\n",
    "                    WHERE b.memid!= 0\n",
    "                    GROUP BY f.facid\"\"\")\n",
    "    rows = rs.fetchall()\n",
    "    df1 = pd.DataFrame(rows)\n",
    "    print(df1)"
   ]
  },
  {
   "cell_type": "markdown",
   "id": "7de4adf8",
   "metadata": {},
   "source": [
    "Q13: Find the facilities usage by month, but not guests"
   ]
  },
  {
   "cell_type": "code",
   "execution_count": 4,
   "id": "c549a0ef",
   "metadata": {},
   "outputs": [
    {
     "name": "stdout",
     "output_type": "stream",
     "text": [
      "      0                1   2\n",
      "0    65   Tennis Court 1  07\n",
      "1    41   Tennis Court 2  07\n",
      "2    51  Badminton Court  07\n",
      "3    48     Table Tennis  07\n",
      "4    77   Massage Room 1  07\n",
      "5     4   Massage Room 2  07\n",
      "6    23     Squash Court  07\n",
      "7    68    Snooker Table  07\n",
      "8   103       Pool Table  07\n",
      "9   111   Tennis Court 1  08\n",
      "10  109   Tennis Court 2  08\n",
      "11  132  Badminton Court  08\n",
      "12  143     Table Tennis  08\n",
      "13  153   Massage Room 1  08\n",
      "14    9   Massage Room 2  08\n",
      "15   85     Squash Court  08\n",
      "16  154    Snooker Table  08\n",
      "17  272       Pool Table  08\n",
      "18  132   Tennis Court 1  09\n",
      "19  126   Tennis Court 2  09\n",
      "20  161  Badminton Court  09\n",
      "21  194     Table Tennis  09\n",
      "22  191   Massage Room 1  09\n",
      "23   14   Massage Room 2  09\n",
      "24   87     Squash Court  09\n",
      "25  199    Snooker Table  09\n",
      "26  408       Pool Table  09\n"
     ]
    }
   ],
   "source": [
    "engine = create_engine('sqlite:///sqlite_db_pythonsqlite.db')\n",
    "with engine.connect() as con:\n",
    "    rs = con.execute(\"\"\"SELECT COUNT(b.bookid), name, strftime('%m', b.starttime) AS Month\n",
    "                        FROM Bookings AS b\n",
    "                        LEFT JOIN Facilities AS f\n",
    "                        ON b.facid=f.facid\n",
    "                        LEFT JOIN Members AS m\n",
    "                        ON b.memid=m.memid\n",
    "                        WHERE b.memid!= 0\n",
    "                        GROUP BY month, b.facid\"\"\")\n",
    "    rows = rs.fetchall()\n",
    "    df1 = pd.DataFrame(rows)\n",
    "    print(df1)"
   ]
  },
  {
   "cell_type": "code",
   "execution_count": null,
   "id": "de19cc1b",
   "metadata": {},
   "outputs": [],
   "source": []
  }
 ],
 "metadata": {
  "kernelspec": {
   "display_name": "Python 3 (ipykernel)",
   "language": "python",
   "name": "python3"
  },
  "language_info": {
   "codemirror_mode": {
    "name": "ipython",
    "version": 3
   },
   "file_extension": ".py",
   "mimetype": "text/x-python",
   "name": "python",
   "nbconvert_exporter": "python",
   "pygments_lexer": "ipython3",
   "version": "3.9.7"
  }
 },
 "nbformat": 4,
 "nbformat_minor": 5
}
